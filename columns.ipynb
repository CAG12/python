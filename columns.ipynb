{
 "cells": [
  {
   "cell_type": "code",
   "execution_count": 70,
   "id": "6b99eac9",
   "metadata": {},
   "outputs": [
    {
     "name": "stdout",
     "output_type": "stream",
     "text": [
      ".............10%............20%20%.............30%.............40%............50%50%.............60%.............70%............80%80%.............90%.............100%\n",
      "END\n"
     ]
    }
   ],
   "source": [
    "import sys\n",
    "\n",
    "primes = [2,3]\n",
    "\n",
    "def is_prime(number):\n",
    "    if number < 2:\n",
    "        return False\n",
    "    for i in primes:\n",
    "        if number % i == 0:\n",
    "            return False\n",
    "    primes.append(number)\n",
    "    return True\n",
    "\n",
    "def decor_primes(number):\n",
    "    return (\"+\" if is_prime(number) else \"\")+ str(number)\n",
    "\n",
    "def create_line(i,number_of_columns):\n",
    "    numbers = [decor_primes(i+j) for j in range(0,number_of_columns)]\n",
    "    numbers = [\" \"*(20-len(n))+n for n in numbers]\n",
    "    return ' '.join(numbers) +\"\\n\"\n",
    "    \n",
    "class Logger: \n",
    "     def __init__(self, start, end, number_of_columns):\n",
    "        self.start=start\n",
    "        self.end = end\n",
    "        self.number_of_columns= number_of_columns\n",
    "        self.length = end - start\n",
    "        self.tenth= int((self.length)/10)\n",
    "        self.percentage = int(self.length/100)\n",
    "        \n",
    "    \n",
    "     def log(self,i) : \n",
    "        if (i>=self.end) :\n",
    "            sys.stdout.write(\"100%\")\n",
    "        elif ((i-self.start+1)> self.length/10 and (i-self.start-1)%self.tenth<=self.number_of_columns):\n",
    "            sys.stdout.write(str(int(i/self.tenth))+\"0%\")\n",
    "        elif ((i-self.start+1)%self.percentage<=self.number_of_columns) :\n",
    "            sys.stdout.write(\".\")\n",
    "      \n",
    "def enumerate_in_columns(file_name, start, end, columns):\n",
    "    if start > end:\n",
    "        start, end = end, start  # Swap start and end if start is greater\n",
    "    l = Logger(start,end, columns)\n",
    "    f = open(file_name, \"a\")\n",
    "    i = start\n",
    "    while i<end:        \n",
    "        f.write(create_line(i, columns))\n",
    "        i+=columns\n",
    "        l.log(i)\n",
    "    f.close() \n",
    "\n",
    "def main():\n",
    "    start_number = 1\n",
    "    end_number = start_number+1000  # Adjust the range as needed\n",
    "    number_of_columns = 6\n",
    "    file_name= \"numbers.txt\";\n",
    "    enumerate_in_columns(file_name,start_number, end_number, number_of_columns)\n",
    "    print(\"\\nEND\")\n",
    "\n",
    "if __name__ == \"__main__\":\n",
    "    main()"
   ]
  },
  {
   "cell_type": "code",
   "execution_count": null,
   "id": "e89268d8",
   "metadata": {},
   "outputs": [],
   "source": []
  },
  {
   "cell_type": "code",
   "execution_count": null,
   "id": "2f999332",
   "metadata": {},
   "outputs": [],
   "source": []
  }
 ],
 "metadata": {
  "kernelspec": {
   "display_name": "Python 3 (ipykernel)",
   "language": "python",
   "name": "python3"
  },
  "language_info": {
   "codemirror_mode": {
    "name": "ipython",
    "version": 3
   },
   "file_extension": ".py",
   "mimetype": "text/x-python",
   "name": "python",
   "nbconvert_exporter": "python",
   "pygments_lexer": "ipython3",
   "version": "3.11.5"
  }
 },
 "nbformat": 4,
 "nbformat_minor": 5
}
