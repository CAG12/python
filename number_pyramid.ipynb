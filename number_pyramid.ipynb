{
 "cells": [
  {
   "cell_type": "code",
   "execution_count": null,
   "id": "8b31af48",
   "metadata": {},
   "outputs": [],
   "source": [
    "import turtle\n",
    "\n",
    "def is_prime(number):\n",
    "    if number < 2:\n",
    "        return False\n",
    "    for i in range(2, int(number**0.5) + 1):\n",
    "        if number % i == 0:\n",
    "            return False\n",
    "    return True\n",
    "\n",
    "def get_color(number) :\n",
    "    white = (0.85,0.85, 0.85)\n",
    "    yellow = \"#FFCC00\"\n",
    "    return yellow if is_prime(number) else white\n",
    "\n",
    "def get_fontstyle(number):\n",
    "    return \"bold\" if is_prime(number) else \"normal\"\n",
    "\n",
    "def draw_pyramid(levels):\n",
    "    width=1920*2\n",
    "    height=1080*2\n",
    "    turtle.setup(width, height)\n",
    "    turtle.speed(0)\n",
    "    turtle.penup()\n",
    "    turtle.getscreen().bgcolor(\"black\");\n",
    "\n",
    "    current_number = 1\n",
    "    items = 1\n",
    "    d=20\n",
    "    for i in range(1, levels + 1):\n",
    "        for j in range(items):          \n",
    "            turtle.goto(-i * 2*d / 2 + j * d, (height*0.23)-i * 12)        \n",
    "            turtle.color(get_color(current_number))\n",
    "            turtle.pendown()\n",
    "            turtle.write(current_number, align=\"center\", font=(\"Arial\", 8, get_fontstyle(current_number)))\n",
    "            turtle.penup()\n",
    "            current_number += 1\n",
    "        items+=2\n",
    "\n",
    "def main():\n",
    "    #levels = int(input(\"Enter the number of levels for the pyramid: \"))\n",
    "    levels=50\n",
    "    draw_pyramid(levels)\n",
    "    turtle.done()\n",
    "\n",
    "if __name__ == \"__main__\":\n",
    "    main()"
   ]
  }
 ],
 "metadata": {
  "kernelspec": {
   "display_name": "Python 3 (ipykernel)",
   "language": "python",
   "name": "python3"
  },
  "language_info": {
   "codemirror_mode": {
    "name": "ipython",
    "version": 3
   },
   "file_extension": ".py",
   "mimetype": "text/x-python",
   "name": "python",
   "nbconvert_exporter": "python",
   "pygments_lexer": "ipython3",
   "version": "3.11.5"
  }
 },
 "nbformat": 4,
 "nbformat_minor": 5
}
